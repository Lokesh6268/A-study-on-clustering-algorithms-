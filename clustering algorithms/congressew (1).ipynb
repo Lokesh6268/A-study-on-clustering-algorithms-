{
 "cells": [
  {
   "cell_type": "code",
   "execution_count": 1,
   "id": "7d09da4b-cebc-4f70-b862-2e66f1cb36c5",
   "metadata": {},
   "outputs": [],
   "source": [
    "import pandas as pd\n",
    "import numpy as np\n",
    "from sklearn.preprocessing import LabelEncoder\n",
    "import matplotlib.pyplot as plt\n",
    "import seaborn as sns\n",
    "from scipy.stats import mode"
   ]
  },
  {
   "cell_type": "code",
   "execution_count": 3,
   "id": "0fd674ac-cf43-492c-b3eb-38c12b03a328",
   "metadata": {},
   "outputs": [],
   "source": [
    "# Step 1: Load and clean data\n",
    "df = pd.read_csv('congressEW.csv')\n",
    "df.columns = df.columns.str.strip()  # Remove trailing spaces from headers\n",
    "df.replace('?', np.nan, inplace=True)\n",
    "df_clean = df.dropna()"
   ]
  },
  {
   "cell_type": "code",
   "execution_count": 5,
   "id": "d0fb4580-7538-443b-bdac-dc2333ebe61f",
   "metadata": {},
   "outputs": [],
   "source": [
    "# Step 2: Label encode features\n",
    "label_encoders = {}\n",
    "df_encoded = pd.DataFrame()"
   ]
  },
  {
   "cell_type": "code",
   "execution_count": 7,
   "id": "e646327e-0638-4999-aaac-6bcfc2e69bc3",
   "metadata": {},
   "outputs": [],
   "source": [
    "for column in df_clean.columns:\n",
    "    le = LabelEncoder()\n",
    "    df_encoded[column] = le.fit_transform(df_clean[column])\n",
    "    label_encoders[column] = le"
   ]
  },
  {
   "cell_type": "code",
   "execution_count": 9,
   "id": "b49534a3-420c-4655-86f1-9bad8b29119d",
   "metadata": {},
   "outputs": [],
   "source": [
    "# Step 3: Prepare feature matrix (X) and true labels (y)\n",
    "X = df_encoded.drop(columns=['class name']).to_numpy()\n",
    "y_true = df_encoded['class name'].to_numpy()\n"
   ]
  },
  {
   "cell_type": "code",
   "execution_count": 13,
   "id": "6a9c8c28-e311-432e-83d3-64ed4a7d2c75",
   "metadata": {},
   "outputs": [],
   "source": [
    "# Step 4: Manual KMeans for k=2 with per-iteration cluster count\n",
    "def run_kmeans_verbose(X, k=2, max_iters=100, tol=1e-4):\n",
    "    np.random.seed(42)\n",
    "    indices = np.random.choice(len(X), k, replace=False)\n",
    "    centroids = X[indices]\n",
    "\n",
    "    for iteration in range(max_iters):\n",
    "        distances = np.linalg.norm(X[:, np.newaxis] - centroids, axis=2)\n",
    "        labels = np.argmin(distances, axis=1)\n",
    "\n",
    "        unique, counts = np.unique(labels, return_counts=True)\n",
    "        print(f\"Iteration {iteration + 1}: \", end=\"\")\n",
    "        for i in range(k):\n",
    "            count = counts[unique.tolist().index(i)] if i in unique else 0\n",
    "            print(f\"Cluster {i}: {count}  \", end=\"\")\n",
    "        print()\n",
    "\n",
    "        new_centroids = np.array([X[labels == i].mean(axis=0) for i in range(k)])\n",
    "        if np.linalg.norm(new_centroids - centroids) < tol:\n",
    "            print(\"\\nConverged.\")\n",
    "            break\n",
    "        centroids = new_centroids\n",
    "\n",
    "    return labels, centroids\n",
    "    labels, centroids = run_kmeans_verbose(X, k=2)\n"
   ]
  },
  {
   "cell_type": "code",
   "execution_count": 15,
   "id": "a2e09719-68aa-470c-89b5-313fde5939df",
   "metadata": {},
   "outputs": [
    {
     "name": "stdout",
     "output_type": "stream",
     "text": [
      "Iteration 1: Cluster 0: 79  Cluster 1: 153  \n",
      "Iteration 2: Cluster 0: 103  Cluster 1: 129  \n",
      "Iteration 3: Cluster 0: 107  Cluster 1: 125  \n",
      "Iteration 4: Cluster 0: 108  Cluster 1: 124  \n",
      "Iteration 5: Cluster 0: 109  Cluster 1: 123  \n",
      "Iteration 6: Cluster 0: 109  Cluster 1: 123  \n",
      "\n",
      "Converged.\n",
      "Are the predicted labels equal to the original class labels? False\n"
     ]
    }
   ],
   "source": [
    "labels, centroids = run_kmeans_verbose(X, k=2)\n",
    "\n",
    "#add code that check dataset is equal are not with predicted result in yes or no one line \n",
    "print(\"Are the predicted labels equal to the original class labels?\", np.array_equal(df_encoded['class name'].to_numpy(), labels))\n"
   ]
  },
  {
   "cell_type": "code",
   "execution_count": 17,
   "id": "200b2728-76f9-4124-a482-40b27d61f847",
   "metadata": {},
   "outputs": [
    {
     "data": {
      "image/png": "[encoded data removed]",
      "text/plain": [
       "<Figure size 640x480 with 1 Axes>"
      ]
     },
     "metadata": {},
     "output_type": "display_data"
    }
   ],
   "source": [
    "# Count the occurrences of each predicted label\n",
    "unique_labels, label_counts = np.unique(labels, return_counts=True)\n",
    "\n",
    "# Plotting the bar chart\n",
    "plt.bar(unique_labels, label_counts, color='skyblue')\n",
    "plt.xlabel('Cluster Label')\n",
    "plt.ylabel('Count')\n",
    "plt.title('Cluster Prediction Distribution')\n",
    "plt.xticks(unique_labels)\n",
    "plt.show()"
   ]
  },
  {
   "cell_type": "code",
   "execution_count": null,
   "id": "cd001c0d-ee69-4485-b06c-a42088a42b55",
   "metadata": {},
   "outputs": [],
   "source": []
  }
 ],
 "metadata": {
  "kernelspec": {
   "display_name": "Python [conda env:base] *",
   "language": "python",
   "name": "conda-base-py"
  },
  "language_info": {
   "codemirror_mode": {
    "name": "ipython",
    "version": 3
   },
   "file_extension": ".py",
   "mimetype": "text/x-python",
   "name": "python",
   "nbconvert_exporter": "python",
   "pygments_lexer": "ipython3",
   "version": "3.12.7"
  }
 },
 "nbformat": 4,
 "nbformat_minor": 5
}
