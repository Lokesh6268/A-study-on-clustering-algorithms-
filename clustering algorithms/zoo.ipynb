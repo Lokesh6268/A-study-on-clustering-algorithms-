{
 "cells": [
  {
   "cell_type": "code",
   "execution_count": 71,
   "id": "44128193-927a-4b31-9c59-52951820bf73",
   "metadata": {},
   "outputs": [],
   "source": [
    "import pandas as pd\n",
    "import numpy as np\n",
    "from sklearn.preprocessing import StandardScaler\n",
    "from sklearn.metrics import pairwise_distances_argmin\n",
    "import matplotlib.pyplot as plt"
   ]
  },
  {
   "cell_type": "code",
   "execution_count": 73,
   "id": "3c6aeb59-b245-455a-892e-4721290b1c46",
   "metadata": {},
   "outputs": [],
   "source": [
    "# Load and prepare the dataset\n",
    "df = pd.read_csv(\"Zoo (3).csv\")\n",
    "X = df.drop(columns=['type']).astype(int)"
   ]
  },
  {
   "cell_type": "code",
   "execution_count": 75,
   "id": "c15912ef-17d8-4098-83e8-3a170b611c34",
   "metadata": {},
   "outputs": [],
   "source": [
    "# Scale the data\n",
    "scaler = StandardScaler()\n",
    "X_scaled = scaler.fit_transform(X)"
   ]
  },
  {
   "cell_type": "code",
   "execution_count": 77,
   "id": "0b8bb25c-adcc-49fa-89c3-cf8698cc4af5",
   "metadata": {
    "scrolled": true
   },
   "outputs": [],
   "source": [
    "# Parameters\n",
    "k = 7\n",
    "max_iters = 10\n",
    "np.random.seed(42)"
   ]
  },
  {
   "cell_type": "code",
   "execution_count": 79,
   "id": "1096d34e-f57b-4f11-b7c5-c21b5019d91c",
   "metadata": {},
   "outputs": [],
   "source": [
    "# Step 1: Initialize centroids randomly\n",
    "initial_indices = np.random.choice(X_scaled.shape[0], k, replace=False)\n",
    "centroids = X_scaled[initial_indices]"
   ]
  },
  {
   "cell_type": "code",
   "execution_count": 99,
   "id": "0ed7d967-05b4-4257-ad23-ea593ca40155",
   "metadata": {},
   "outputs": [
    {
     "name": "stdout",
     "output_type": "stream",
     "text": [
      "\n",
      "Iteration 1:\n",
      "  Cluster 0: 24 points\n",
      "  Cluster 1: 16 points\n",
      "  Cluster 2: 22 points\n",
      "  Cluster 3: 28 points\n",
      "  Cluster 4: 0 points\n",
      "  Cluster 5: 11 points\n",
      "  Cluster 6: 0 points\n",
      "\n",
      "Iteration 2:\n",
      "  Cluster 0: 23 points\n",
      "  Cluster 1: 7 points\n",
      "  Cluster 2: 17 points\n",
      "  Cluster 3: 5 points\n",
      "  Cluster 4: 17 points\n",
      "  Cluster 5: 19 points\n",
      "  Cluster 6: 13 points\n",
      "\n",
      "Iteration 3:\n",
      "  Cluster 0: 21 points\n",
      "  Cluster 1: 8 points\n",
      "  Cluster 2: 16 points\n",
      "  Cluster 3: 8 points\n",
      "  Cluster 4: 17 points\n",
      "  Cluster 5: 18 points\n",
      "  Cluster 6: 13 points\n",
      "\n",
      "Iteration 4:\n",
      "  Cluster 0: 21 points\n",
      "  Cluster 1: 8 points\n",
      "  Cluster 2: 16 points\n",
      "  Cluster 3: 7 points\n",
      "  Cluster 4: 18 points\n",
      "  Cluster 5: 18 points\n",
      "  Cluster 6: 13 points\n",
      "\n",
      "Iteration 5:\n",
      "  Cluster 0: 21 points\n",
      "  Cluster 1: 8 points\n",
      "  Cluster 2: 16 points\n",
      "  Cluster 3: 7 points\n",
      "  Cluster 4: 18 points\n",
      "  Cluster 5: 18 points\n",
      "  Cluster 6: 13 points\n",
      "\n",
      "Converged.\n"
     ]
    }
   ],
   "source": [
    "# Store cluster assignments for each iteration\n",
    "all_labels = []\n",
    "\n",
    "# Manual K-Means iteration loop\n",
    "for i in range(max_iters):\n",
    "    # Step 2: Assign points to nearest centroids\n",
    "    labels = pairwise_distances_argmin(X_scaled, centroids)\n",
    "    all_labels.append(labels)\n",
    "\n",
    "    \n",
    "    # Step 3: Count how many points are in each cluster\n",
    "    print(f\"\\nIteration {i + 1}:\")\n",
    "    unique, counts = np.unique(labels, return_counts=True)\n",
    "    for cluster_id in range(k):\n",
    "        count = counts[unique.tolist().index(cluster_id)] if cluster_id in unique else 0\n",
    "        print(f\"  Cluster {cluster_id}: {count} points\")\n",
    "\n",
    "    # Step 4: Update centroids\n",
    "    new_centroids = np.array([\n",
    "        X_scaled[labels == j].mean(axis=0) if np.any(labels == j) else centroids[j]\n",
    "        for j in range(k)\n",
    "    ])\n",
    "\n",
    "    # Check for convergence\n",
    "    if np.allclose(centroids, new_centroids):\n",
    "        print(\"\\nConverged.\")\n",
    "        break\n",
    "\n",
    "    centroids = new_centroids  # This line should be properly indented\n"
   ]
  },
  {
   "cell_type": "code",
   "execution_count": 107,
   "id": "4057238a-7009-47c7-bfa4-3f89d594be50",
   "metadata": {},
   "outputs": [],
   "source": [
    "\n",
    "# Final cluster assignments\n",
    "final_labels = all_labels[-1]\n",
    "df['cluster'] = final_labels"
   ]
  },
  {
   "cell_type": "code",
   "execution_count": 111,
   "id": "0d16f9b1-8724-4647-94ee-45caa62dbf37",
   "metadata": {},
   "outputs": [
    {
     "name": "stdout",
     "output_type": "stream",
     "text": [
      "\n",
      "Final Cluster Count Summary:\n",
      "  Cluster 0: 21 points\n",
      "  Cluster 1: 8 points\n",
      "  Cluster 2: 16 points\n",
      "  Cluster 3: 7 points\n",
      "  Cluster 4: 18 points\n",
      "  Cluster 5: 18 points\n",
      "  Cluster 6: 13 points\n"
     ]
    }
   ],
   "source": [
    "\n",
    "# Final cluster distribution\n",
    "final_counts = df['cluster'].value_counts().sort_index()# Print final cluster distribution\n",
    "print(\"\\nFinal Cluster Count Summary:\")\n",
    "for cluster_id in range(k):\n",
    "    print(f\"  Cluster {cluster_id}: {final_counts.get(cluster_id, 0)} points\")"
   ]
  },
  {
   "cell_type": "code",
   "execution_count": 115,
   "id": "94ef1694-1b4c-47ee-b399-f02c83845a63",
   "metadata": {},
   "outputs": [
    {
     "name": "stdout",
     "output_type": "stream",
     "text": [
      "\n",
      "Is the dataset equal to the predicted result?  No\n"
     ]
    }
   ],
   "source": [
    "dataset_equal = np.array_equal(df.drop(columns=[\"type\", \"cluster\"]).values, X_scaled)\n",
    "\n",
    "# Print \"Yes\" or \"No\" based on the dataset comparison\n",
    "print(\"\\nIs the dataset equal to the predicted result? \", \"Yes\" if dataset_equal else \"No\")"
   ]
  },
  {
   "cell_type": "code",
   "execution_count": 117,
   "id": "1725058d-0da4-4154-9fcc-7138d23af04a",
   "metadata": {},
   "outputs": [
    {
     "data": {
      "image/png": "[encoded data removed]",
      "text/plain": [
       "<Figure size 800x500 with 1 Axes>"
      ]
     },
     "metadata": {},
     "output_type": "display_data"
    }
   ],
   "source": [
    "# Visualize final cluster distribution\n",
    "plt.figure(figsize=(8, 5))\n",
    "final_counts.plot(kind='bar', color='skyblue')\n",
    "plt.title(\"Final Cluster Sizes (k=7)\")\n",
    "plt.xlabel(\"Cluster ID\")\n",
    "plt.ylabel(\"Number of Data Points\")\n",
    "plt.xticks(rotation=0)\n",
    "plt.grid(axis='y')\n",
    "plt.tight_layout()\n",
    "plt.show()"
   ]
  },
  {
   "cell_type": "code",
   "execution_count": null,
   "id": "0fe7c702-8793-4f31-877c-b96e6db88564",
   "metadata": {},
   "outputs": [],
   "source": []
  }
 ],
 "metadata": {
  "kernelspec": {
   "display_name": "Python [conda env:base] *",
   "language": "python",
   "name": "conda-base-py"
  },
  "language_info": {
   "codemirror_mode": {
    "name": "ipython",
    "version": 3
   },
   "file_extension": ".py",
   "mimetype": "text/x-python",
   "name": "python",
   "nbconvert_exporter": "python",
   "pygments_lexer": "ipython3",
   "version": "3.12.7"
  }
 },
 "nbformat": 4,
 "nbformat_minor": 5
}
